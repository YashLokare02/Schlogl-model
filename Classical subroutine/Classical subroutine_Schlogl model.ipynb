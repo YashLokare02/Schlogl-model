{
 "cells": [
  {
   "cell_type": "markdown",
   "id": "4414f132",
   "metadata": {},
   "source": [
    "## Importing relevant libraries"
   ]
  },
  {
   "cell_type": "code",
   "execution_count": 1,
   "id": "de21b71c",
   "metadata": {},
   "outputs": [],
   "source": [
    "import numpy as np"
   ]
  },
  {
   "cell_type": "markdown",
   "id": "4f158339",
   "metadata": {},
   "source": [
    "## Function to generate the Schlogl operator matrix"
   ]
  },
  {
   "cell_type": "code",
   "execution_count": null,
   "id": "e6febb67",
   "metadata": {},
   "outputs": [],
   "source": [
    "def TridiagA(lambda_func, mu_func, N):\n",
    "    \"\"\"\n",
    "    Creates tridiagonal stochastic matrix for the Schlogl model\n",
    "    Inputs lambda and mu model functions, and N desired size of matrix\n",
    "    Returns stochastic matrix (non-hermitian)\n",
    "    \"\"\"\n",
    "    # initialize diagonals\n",
    "    d1 = np.zeros(N - 1)\n",
    "    d2 = np.zeros(N)\n",
    "    d3 = np.zeros(N - 1)\n",
    "\n",
    "    # element 1,1\n",
    "    d2[0] = -lambda_func(0)\n",
    "\n",
    "    # element N,N\n",
    "    d2[N - 1] = -mu_func(N - 1)\n",
    "\n",
    "    # bottom diagonal elements\n",
    "    for i in range(N - 1):\n",
    "        d1[i] = lambda_func(i)\n",
    "\n",
    "    # top diagonal elements\n",
    "    for i in range(1, N):\n",
    "        d3[i - 1] = mu_func(i)\n",
    "\n",
    "    # main diagonal elements\n",
    "    for i in range(1, N - 1):\n",
    "        d2[i] = -lambda_func(i) - mu_func(i)\n",
    "\n",
    "    # putting the diagonals together\n",
    "    Q = np.diag(d1, k = -1) + np.diag(d2, k = 0) + np.diag(d3, k = 1)\n",
    "    \n",
    "    return Q\n",
    "\n",
    "def get_volume_array(start_V, stop_V, n_operator_qubits):\n",
    "    # Function to generate the initial volume array (to carry out computations)\n",
    "    \n",
    "    num_elements = 2 ** n_operator_qubits\n",
    "    step_size = (stop_V - start_V)/(num_elements - 1)\n",
    "    \n",
    "    # Generate the volume array, given that the step size has been determined\n",
    "    volume_array = np.arange(start_V, stop_V, step_size)\n",
    "    \n",
    "    return volume_array"
   ]
  },
  {
   "cell_type": "markdown",
   "id": "ff453af6",
   "metadata": {},
   "source": [
    "## Computing the block diagonal representation of the Schlogl operator matrix"
   ]
  },
  {
   "cell_type": "code",
   "execution_count": null,
   "id": "9a58a50b",
   "metadata": {},
   "outputs": [],
   "source": [
    "# Compute the corresponding block diagonal representation of the matrix\n",
    "Q0 = np.zeros((len(Q), len(Q)))\n",
    "hermitian_matrix = np.block([[Q0, Q], [Q.T, Q0]])"
   ]
  }
 ],
 "metadata": {
  "kernelspec": {
   "display_name": "Python 3 (ipykernel)",
   "language": "python",
   "name": "python3"
  },
  "language_info": {
   "codemirror_mode": {
    "name": "ipython",
    "version": 3
   },
   "file_extension": ".py",
   "mimetype": "text/x-python",
   "name": "python",
   "nbconvert_exporter": "python",
   "pygments_lexer": "ipython3",
   "version": "3.10.9"
  }
 },
 "nbformat": 4,
 "nbformat_minor": 5
}
