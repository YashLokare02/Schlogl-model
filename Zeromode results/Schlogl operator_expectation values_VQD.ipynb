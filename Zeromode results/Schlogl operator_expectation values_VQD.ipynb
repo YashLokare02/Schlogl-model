{
 "cells": [
  {
   "cell_type": "code",
   "execution_count": 2,
   "id": "97072692",
   "metadata": {},
   "outputs": [],
   "source": [
    "import numpy as np"
   ]
  },
  {
   "cell_type": "markdown",
   "id": "3ea56ecc",
   "metadata": {},
   "source": [
    "## Function to generate the Schlogl matrix"
   ]
  },
  {
   "cell_type": "code",
   "execution_count": 3,
   "id": "53eed77c",
   "metadata": {},
   "outputs": [],
   "source": [
    "def TridiagA(lambda_func, mu_func, N):\n",
    "    \"\"\"\n",
    "    Creates tridiagonal stochastic matrix for the Schlogl model\n",
    "    Inputs lambda and mu model functions, and N desired size of matrix\n",
    "    Returns stochastic matrix (non-hermitian)\n",
    "    \"\"\"\n",
    "    # initialize diagonals\n",
    "    d1 = np.zeros(N - 1)\n",
    "    d2 = np.zeros(N)\n",
    "    d3 = np.zeros(N - 1)\n",
    "\n",
    "    # element 1,1\n",
    "    d2[0] = -lambda_func(0)\n",
    "\n",
    "    # element N,N\n",
    "    d2[N - 1] = -mu_func(N - 1)\n",
    "\n",
    "    # bottom diagonal elements\n",
    "    for i in range(N - 1):\n",
    "        d1[i] = lambda_func(i)\n",
    "\n",
    "    # top diagonal elements\n",
    "    for i in range(1, N):\n",
    "        d3[i - 1] = mu_func(i)\n",
    "\n",
    "    # main diagonal elements\n",
    "    for i in range(1, N - 1):\n",
    "        d2[i] = -lambda_func(i) - mu_func(i)\n",
    "\n",
    "    # putting the diagonals together\n",
    "    Q = np.diag(d1, k = -1) + np.diag(d2, k = 0) + np.diag(d3, k = 1)\n",
    "    \n",
    "    return Q\n",
    "\n",
    "def get_volume_array(start_V, stop_V, n_operator_qubits):\n",
    "    # Function to generate the volume array (to carry out computations)\n",
    "    \n",
    "    num_elements = 2 ** n_operator_qubits\n",
    "    step_size = (stop_V - start_V)/(num_elements - 1)\n",
    "    \n",
    "    # Generate the volume array, given that the step size has been determined\n",
    "    volume_array = np.arange(start_V, stop_V, step_size)\n",
    "    \n",
    "    return volume_array"
   ]
  },
  {
   "cell_type": "markdown",
   "id": "3cdd213c",
   "metadata": {},
   "source": [
    "## Construct the Schlogl matrix (for V = 10.5)"
   ]
  },
  {
   "cell_type": "code",
   "execution_count": 20,
   "id": "51822da1",
   "metadata": {},
   "outputs": [],
   "source": [
    "def make_Q(n, V):\n",
    "    # Function to construct the Schlogl operator for a given number of operator qubits and system volume\n",
    "    \n",
    "    # Defining parameters\n",
    "    a = 1\n",
    "    b = 1\n",
    "    k1 = 3\n",
    "    k2 = 0.6\n",
    "    k3 = 0.25\n",
    "    k4 = 2.95\n",
    "    \n",
    "    # Matrix dimensions\n",
    "    N = 2 ** n\n",
    "    \n",
    "    # Generating the basis size array\n",
    "    x_axis = []\n",
    "\n",
    "    for i in range(2 * N):\n",
    "        x_axis.append(i)\n",
    "        \n",
    "    # Set the system volume\n",
    "    volume_array = np.arange(0.1, V, 0.1)\n",
    "    \n",
    "    # Construct the matrix representation of the Schlogl operator\n",
    "    for i, V in enumerate(volume_array):\n",
    "    \n",
    "        # Birth and death rates\n",
    "        lambda_fn = lambda n: ((a*k1*n*(n-1))/V + b*k3*V)\n",
    "        mu_fn = lambda n: ((k2*n*(n-1)*(n-2))/V**2 + n*k4)\n",
    "\n",
    "        # stochastic matrix Q of dimension N x N\n",
    "        Q = TridiagA(lambda_fn, mu_fn, N)\n",
    "\n",
    "        i += 1\n",
    "        \n",
    "    Q = np.dot(Q.T, Q) # consider the Hermitian form of the Schlogl operator matrix\n",
    "        \n",
    "    return Q"
   ]
  },
  {
   "cell_type": "markdown",
   "id": "09a7a393",
   "metadata": {},
   "source": [
    "## Function to compute the expectation value"
   ]
  },
  {
   "cell_type": "code",
   "execution_count": 19,
   "id": "7984fdb8",
   "metadata": {},
   "outputs": [],
   "source": [
    "def get_expectation(Q, zeromode):\n",
    "    # Function to compute the expectation value of the Schlogl operator wrt the zeromode\n",
    "    \n",
    "    # Convert the zeromode into a matrix (column vector)    \n",
    "    rows, cols = len(zeromode), 1\n",
    "    zeromode = [zeromode[i * cols:(i + 1) * cols] for i in range(rows)]\n",
    "    zeromode = np.abs(zeromode) # get rid of all (extraneous) negative values (since this is a PDF)\n",
    "    \n",
    "    # Compute the steady-state expectation value\n",
    "    value = np.dot(Q, zeromode)\n",
    "    expectation_val = np.dot(np.transpose(zeromode), value)\n",
    "    \n",
    "    return expectation_val"
   ]
  },
  {
   "cell_type": "markdown",
   "id": "06ba931a",
   "metadata": {},
   "source": [
    "## For N = 2"
   ]
  },
  {
   "cell_type": "code",
   "execution_count": 6,
   "id": "8ec595b7",
   "metadata": {},
   "outputs": [],
   "source": [
    "n = 2 # for a two-qubit Schlogl operator"
   ]
  },
  {
   "cell_type": "markdown",
   "id": "bdf8d709",
   "metadata": {},
   "source": [
    "### For V = 1.1"
   ]
  },
  {
   "cell_type": "code",
   "execution_count": 21,
   "id": "ab149dd9",
   "metadata": {},
   "outputs": [
    {
     "name": "stdout",
     "output_type": "stream",
     "text": [
      "The steady-state expectation value of the Schlogl operator is:\n",
      "[[1.50353322e-13]]\n",
      "\n"
     ]
    }
   ],
   "source": [
    "# Define the volume parameter and construct the matrix\n",
    "V = 1.2\n",
    "matrix = make_Q(n = n, V = V)\n",
    "\n",
    "# Get the zeromode\n",
    "zeromode = [0.99567158+0.j, 0.09281694+0.j, 0.00432626+0.j,\n",
    "             0.00209618+0.j]\n",
    "\n",
    "# Compute the steady-state expectation value\n",
    "expectation_value = get_expectation(matrix, zeromode)\n",
    "\n",
    "# Print the steady-state expectation value\n",
    "print('The steady-state expectation value of the Schlogl operator is:')\n",
    "print(expectation_value)\n",
    "print()"
   ]
  },
  {
   "cell_type": "markdown",
   "id": "8691b8dd",
   "metadata": {},
   "source": [
    "### For V = 5.5"
   ]
  },
  {
   "cell_type": "code",
   "execution_count": 22,
   "id": "417e778c",
   "metadata": {},
   "outputs": [
    {
     "name": "stdout",
     "output_type": "stream",
     "text": [
      "The steady-state expectation value of the Schlogl operator is:\n",
      "[[1.06093355e-13]]\n",
      "\n"
     ]
    }
   ],
   "source": [
    "# Define the volume parameter and construct the matrix\n",
    "V = 5.6\n",
    "matrix = make_Q(n = n, V = V)\n",
    "\n",
    "# Get the zeromode\n",
    "zeromode = [0.90169085+0.j, 0.42027956+0.j, 0.09794651+0.j,\n",
    "             0.02692908+0.j]\n",
    "\n",
    "# Compute the steady-state expectation value\n",
    "expectation_value = get_expectation(matrix, zeromode)\n",
    "\n",
    "# Print the steady-state expectation value\n",
    "print('The steady-state expectation value of the Schlogl operator is:')\n",
    "print(expectation_value)\n",
    "print()"
   ]
  },
  {
   "cell_type": "markdown",
   "id": "dc0f6d43",
   "metadata": {},
   "source": [
    "### For V = 10.5"
   ]
  },
  {
   "cell_type": "code",
   "execution_count": 23,
   "id": "ab9e424f",
   "metadata": {},
   "outputs": [
    {
     "name": "stdout",
     "output_type": "stream",
     "text": [
      "The steady-state expectation value of the Schlogl operator is:\n",
      "[[5.26668775e-13]]\n",
      "\n"
     ]
    }
   ],
   "source": [
    "# Define the volume parameter and construct the matrix\n",
    "V = 10.6\n",
    "matrix = make_Q(n = n, V = V)\n",
    "\n",
    "# Get the zeromode\n",
    "zeromode = [-0.71268218+0.j, -0.63416615+0.j, -0.28215009+0.j,\n",
    "             -0.10153186+0.j]\n",
    "\n",
    "# Compute the steady-state expectation value\n",
    "expectation_value = get_expectation(matrix, np.abs(zeromode))\n",
    "\n",
    "# Print the steady-state expectation value\n",
    "print('The steady-state expectation value of the Schlogl operator is:')\n",
    "print(expectation_value)\n",
    "print()"
   ]
  },
  {
   "cell_type": "markdown",
   "id": "31514e8d",
   "metadata": {},
   "source": [
    "## For N = 3"
   ]
  },
  {
   "cell_type": "code",
   "execution_count": 25,
   "id": "e0ed7352",
   "metadata": {},
   "outputs": [],
   "source": [
    "n = 3 # for a three-qubit Schlogl operator"
   ]
  },
  {
   "cell_type": "markdown",
   "id": "7af95840",
   "metadata": {},
   "source": [
    "### For V = 1.1"
   ]
  },
  {
   "cell_type": "code",
   "execution_count": 26,
   "id": "4c648f89",
   "metadata": {},
   "outputs": [
    {
     "name": "stdout",
     "output_type": "stream",
     "text": [
      "The steady-state expectation value of the Schlogl operator is:\n",
      "[[0.16698541]]\n",
      "\n"
     ]
    }
   ],
   "source": [
    "# Define the volume parameter and construct the matrix\n",
    "V = 1.2\n",
    "matrix = make_Q(n = n, V = V)\n",
    "\n",
    "# Get the zeromode\n",
    "zeromode = [-0.99505124+0.j, -0.04863174+0.j,  0.03864734+0.j,\n",
    "              0.04197555+0.j,  0.04136649+0.j,  0.0369267 +0.j,\n",
    "              0.02844736+0.j,  0.01919364+0.j]\n",
    "\n",
    "# Compute the steady-state expectation value\n",
    "expectation_value = get_expectation(matrix, zeromode)\n",
    "\n",
    "# Print the steady-state expectation value\n",
    "print('The steady-state expectation value of the Schlogl operator is:')\n",
    "print(expectation_value)\n",
    "print()"
   ]
  },
  {
   "cell_type": "markdown",
   "id": "6a509963",
   "metadata": {},
   "source": [
    "### For V = 5.5"
   ]
  },
  {
   "cell_type": "code",
   "execution_count": 27,
   "id": "45a169a3",
   "metadata": {},
   "outputs": [
    {
     "name": "stdout",
     "output_type": "stream",
     "text": [
      "The steady-state expectation value of the Schlogl operator is:\n",
      "[[5.21671786e-11]]\n",
      "\n"
     ]
    }
   ],
   "source": [
    "# Define the volume parameter and construct the matrix\n",
    "V = 5.6\n",
    "matrix = make_Q(n = n, V = V)\n",
    "\n",
    "# Get the zeromode\n",
    "zeromode = [-0.90162544+0.j, -0.42024984+0.j, -0.09794065+0.j,\n",
    "             -0.02692844+0.j, -0.01019558+0.j, -0.00506632+0.j,\n",
    "             -0.0030995 +0.j, -0.00221561+0.j]\n",
    "\n",
    "# Compute the steady-state expectation value\n",
    "expectation_value = get_expectation(matrix, zeromode)\n",
    "\n",
    "# Print the steady-state expectation value\n",
    "print('The steady-state expectation value of the Schlogl operator is:')\n",
    "print(expectation_value)\n",
    "print()"
   ]
  },
  {
   "cell_type": "markdown",
   "id": "523905b7",
   "metadata": {},
   "source": [
    "### For V = 10.5"
   ]
  },
  {
   "cell_type": "code",
   "execution_count": 29,
   "id": "c2ef268a",
   "metadata": {},
   "outputs": [
    {
     "name": "stdout",
     "output_type": "stream",
     "text": [
      "The steady-state expectation value of the Schlogl operator is:\n",
      "[[2.88954854e-11]]\n",
      "\n"
     ]
    }
   ],
   "source": [
    "# Define the volume parameter and construct the matrix\n",
    "V = 10.6\n",
    "matrix = make_Q(n = n, V = V)\n",
    "\n",
    "# Get the zeromode\n",
    "zeromode = [0.7120989 +0.j, 0.63364626+0.j, 0.28191806+0.j,\n",
    "             0.10144771+0.j, 0.0368971 +0.j, 0.01481461+0.j,\n",
    "             0.00673125+0.j, 0.00345817+0.j]\n",
    "\n",
    "# Compute the steady-state expectation value\n",
    "expectation_value = get_expectation(matrix, zeromode)\n",
    "\n",
    "# Print the steady-state expectation value\n",
    "print('The steady-state expectation value of the Schlogl operator is:')\n",
    "print(expectation_value)\n",
    "print()"
   ]
  },
  {
   "cell_type": "markdown",
   "id": "b922d65c",
   "metadata": {},
   "source": [
    "## For N = 4"
   ]
  },
  {
   "cell_type": "code",
   "execution_count": 30,
   "id": "3b8edbde",
   "metadata": {},
   "outputs": [],
   "source": [
    "n = 4 # for a four-qubit Schlogl operator"
   ]
  },
  {
   "cell_type": "markdown",
   "id": "aa707ed3",
   "metadata": {},
   "source": [
    "### For V = 1.1"
   ]
  },
  {
   "cell_type": "code",
   "execution_count": 31,
   "id": "fab7a441",
   "metadata": {},
   "outputs": [
    {
     "name": "stdout",
     "output_type": "stream",
     "text": [
      "The steady-state expectation value of the Schlogl operator is:\n",
      "[[950.5030615]]\n",
      "\n"
     ]
    }
   ],
   "source": [
    "# Define the volume parameter and construct the matrix\n",
    "V = 1.2\n",
    "matrix = make_Q(n = n, V = V)\n",
    "\n",
    "# Get the zeromode\n",
    "zeromode = [ 0.09524526+0.j,  0.17725149+0.j, -0.19412314+0.j,\n",
    "             -0.25582711+0.j, -0.517277  +0.j, -0.27461685+0.j,\n",
    "             -0.24072228+0.j, -0.34037342+0.j, -0.34894459+0.j,\n",
    "             -0.31679964+0.j, -0.2543979 +0.j, -0.17989502+0.j,\n",
    "             -0.11530658+0.j, -0.07064703+0.j, -0.04136848+0.j,\n",
    "             -0.01961987+0.j]\n",
    "\n",
    "# Compute the steady-state expectation value\n",
    "expectation_value = get_expectation(matrix, zeromode)\n",
    "\n",
    "# Print the steady-state expectation value\n",
    "print('The steady-state expectation value of the Schlogl operator is:')\n",
    "print(expectation_value)\n",
    "print()"
   ]
  },
  {
   "cell_type": "markdown",
   "id": "80ac546f",
   "metadata": {},
   "source": [
    "### For V = 5.5"
   ]
  },
  {
   "cell_type": "code",
   "execution_count": 32,
   "id": "cbedade9",
   "metadata": {},
   "outputs": [
    {
     "name": "stdout",
     "output_type": "stream",
     "text": [
      "The steady-state expectation value of the Schlogl operator is:\n",
      "[[1.63839189]]\n",
      "\n"
     ]
    }
   ],
   "source": [
    "# Define the volume parameter and construct the matrix\n",
    "V = 5.6\n",
    "matrix = make_Q(n = n, V = V)\n",
    "\n",
    "# Get the zeromode\n",
    "zeromode = [0.96180082+0.j, 0.26194617+0.j, 0.0301999 +0.j,\n",
    "             0.01529311+0.j, 0.02238817+0.j, 0.02707549+0.j,\n",
    "             0.04576815+0.j, 0.03275173+0.j, 0.02020531+0.j,\n",
    "             0.01178163+0.j, 0.00576717+0.j, 0.00132178+0.j,\n",
    "             0.00498498+0.j, 0.00933741+0.j, 0.0062856 +0.j,\n",
    "             0.00649244+0.j]\n",
    "\n",
    "# Compute the steady-state expectation value\n",
    "expectation_value = get_expectation(matrix, zeromode)\n",
    "\n",
    "# Print the steady-state expectation value\n",
    "print('The steady-state expectation value of the Schlogl operator is:')\n",
    "print(expectation_value)\n",
    "print()"
   ]
  },
  {
   "cell_type": "markdown",
   "id": "4392a40d",
   "metadata": {},
   "source": [
    "### For V = 10.5"
   ]
  },
  {
   "cell_type": "code",
   "execution_count": 33,
   "id": "ad8f578d",
   "metadata": {},
   "outputs": [
    {
     "name": "stdout",
     "output_type": "stream",
     "text": [
      "The steady-state expectation value of the Schlogl operator is:\n",
      "[[0.05854878]]\n",
      "\n"
     ]
    }
   ],
   "source": [
    "# Define the volume parameter and construct the matrix\n",
    "V = 10.6\n",
    "matrix = make_Q(n = n, V = V)\n",
    "\n",
    "# Get the zeromode\n",
    "zeromode = [6.63112383e-01+0.j, 6.47620184e-01+0.j, 3.33068965e-01+0.j,\n",
    "             1.48706338e-01+0.j, 7.39652269e-02+0.j, 3.86268418e-02+0.j,\n",
    "             2.20951911e-02+0.j, 1.36554249e-02+0.j, 9.69574426e-03+0.j,\n",
    "             7.49266688e-03+0.j, 4.79675637e-03+0.j, 2.93855007e-03+0.j,\n",
    "             1.28971596e-03+0.j, 6.53162836e-04+0.j, 8.25774903e-05+0.j,\n",
    "             3.33221683e-04+0.j]\n",
    "\n",
    "# Compute the steady-state expectation value\n",
    "expectation_value = get_expectation(matrix, zeromode)\n",
    "\n",
    "# Print the steady-state expectation value\n",
    "print('The steady-state expectation value of the Schlogl operator is:')\n",
    "print(expectation_value)\n",
    "print()"
   ]
  }
 ],
 "metadata": {
  "kernelspec": {
   "display_name": "Python 3 (ipykernel)",
   "language": "python",
   "name": "python3"
  },
  "language_info": {
   "codemirror_mode": {
    "name": "ipython",
    "version": 3
   },
   "file_extension": ".py",
   "mimetype": "text/x-python",
   "name": "python",
   "nbconvert_exporter": "python",
   "pygments_lexer": "ipython3",
   "version": "3.10.9"
  }
 },
 "nbformat": 4,
 "nbformat_minor": 5
}
