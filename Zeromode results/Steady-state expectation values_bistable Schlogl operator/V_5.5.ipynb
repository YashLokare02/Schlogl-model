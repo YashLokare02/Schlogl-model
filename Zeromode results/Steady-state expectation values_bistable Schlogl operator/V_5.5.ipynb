{
 "cells": [
  {
   "cell_type": "code",
   "execution_count": 1,
   "id": "1c0ec233",
   "metadata": {},
   "outputs": [],
   "source": [
    "import numpy as np"
   ]
  },
  {
   "cell_type": "markdown",
   "id": "d67bba7a",
   "metadata": {},
   "source": [
    "## Function to generate the Schlogl matrix"
   ]
  },
  {
   "cell_type": "code",
   "execution_count": 7,
   "id": "37e4f07e",
   "metadata": {},
   "outputs": [],
   "source": [
    "def TridiagA(lambda_func, mu_func, N):\n",
    "    \"\"\"\n",
    "    Creates tridiagonal stochastic matrix for the Schlogl model\n",
    "    Inputs lambda and mu model functions, and N desired size of matrix\n",
    "    Returns stochastic matrix (non-hermitian)\n",
    "    \"\"\"\n",
    "    # initialize diagonals\n",
    "    d1 = np.zeros(N - 1)\n",
    "    d2 = np.zeros(N)\n",
    "    d3 = np.zeros(N - 1)\n",
    "\n",
    "    # element 1,1\n",
    "    d2[0] = -lambda_func(0)\n",
    "\n",
    "    # element N,N\n",
    "    d2[N - 1] = -mu_func(N - 1)\n",
    "\n",
    "    # bottom diagonal elements\n",
    "    for i in range(N - 1):\n",
    "        d1[i] = lambda_func(i)\n",
    "\n",
    "    # top diagonal elements\n",
    "    for i in range(1, N):\n",
    "        d3[i - 1] = mu_func(i)\n",
    "\n",
    "    # main diagonal elements\n",
    "    for i in range(1, N - 1):\n",
    "        d2[i] = -lambda_func(i) - mu_func(i)\n",
    "\n",
    "    # putting the diagonals together\n",
    "    Q = np.diag(d1, k = -1) + np.diag(d2, k = 0) + np.diag(d3, k = 1)\n",
    "    \n",
    "    return Q\n",
    "\n",
    "def get_volume_array(start_V, stop_V, n_operator_qubits):\n",
    "    # Function to generate the volume array (to carry out computations)\n",
    "    \n",
    "    num_elements = 2 ** n_operator_qubits\n",
    "    step_size = (stop_V - start_V)/(num_elements - 1)\n",
    "    \n",
    "    # Generate the volume array, given that the step size has been determined\n",
    "    volume_array = np.arange(start_V, stop_V, step_size)\n",
    "    \n",
    "    return volume_array"
   ]
  },
  {
   "cell_type": "markdown",
   "id": "a5d1e13e",
   "metadata": {},
   "source": [
    "## Construct the Schlogl matrix (for V = 5.5)"
   ]
  },
  {
   "cell_type": "code",
   "execution_count": 28,
   "id": "2614ffe6",
   "metadata": {},
   "outputs": [],
   "source": [
    "# Defining parameters\n",
    "# nmax = 15\n",
    "# dx = 0.01\n",
    "# a = 4\n",
    "# gamma = 3\n",
    "# c = 1\n",
    "# L = 1\n",
    "# shift = 0\n",
    "\n",
    "# #3, 5, 1, 1\n",
    "# x = np.linspace(-5, 5, int((5+5)/dx))\n",
    "# y = perturbed_ornstein_uhlenbeck(x, a = a, gamma = gamma, c = c, shift = shift)\n",
    "\n",
    "# ## Finding the zeromode through direct integration\n",
    "# cache_projection = integrate_eigenvector(x, y, nmax, L)\n",
    "# x_projection, y_projection = reconstruct_eigenvector(cache_projection)\n",
    "\n",
    "# ## Finding the zeromode through diagonalization\n",
    "# op_nonhermitian = create_operator_perturbed(nmax, L, a, c, gamma)\n",
    "# only_even = True\n",
    "\n",
    "# cache_diagonalization = find_zeromode(op_nonhermitian, nmax, x, dx, L, which = \"single\", only_even = only_even)\n",
    "# x_diagonalization, y_diagonalization = reconstruct_eigenvector(cache_diagonalization, only_even = only_even)\n",
    "\n",
    "# # Test case 2 (for a different matrix)\n",
    "# def generate_matrix(eigenvalues):\n",
    "#     \"\"\"\n",
    "#     Purpose:\n",
    "#         create a matrix with known eigenvalues\n",
    "#     Input:\n",
    "#         eigenvalues: Numpy array of the desired eigenvalues\n",
    "#     Output:\n",
    "#         M: a random matrix with the input eigenvalues\n",
    "#     \"\"\"\n",
    "#     n = len(eigenvalues)\n",
    "#     s = np.diag(eigenvalues)\n",
    "#     q, _ = la.qr(np.random.rand(n, n))\n",
    "#     M = q.T @ s @ q\n",
    "\n",
    "#     return M\n",
    "\n",
    "# matrix = generate_matrix([0, np.pi/2, np.pi, np.pi/4])\n",
    "# add_half = False\n",
    "\n",
    "# U, n_query_qubits, dimension = get_unitary(matrix, add_half = add_half)\n",
    "\n",
    "# # Print the unitary matrix as a check\n",
    "# print('The unitary matrix is:')\n",
    "# print(U)\n",
    "# print()\n",
    "\n",
    "# ## Test case 3: Lorenz attractor\n",
    "# matrix = np.matrix([[-1.17, 1.93, 0.65], [0.52, -3.86, 0.52], [0.65, 1.93, -1.17]])\n",
    "\n",
    "# # Generate the unitary matrix\n",
    "# add_half = False\n",
    "# U, n_query_qubits, dimension = get_unitary(matrix, add_half = add_half)\n",
    "\n",
    "# # Print the unitary matrix\n",
    "# print('The unitary matrix is:')\n",
    "# print(U)\n",
    "# print()\n",
    "\n",
    "# ## Test case 4: Rossler attractor\n",
    "# matrix = np.matrix([[-0.6495892960005145, 0, 0, 0.5535769559317093], [0, -0.9531175033919642, 0.6844907226212461, 0], \n",
    "#                     [0.6495892960005145, 0, -0.6844907226212461, 0], [0, 0.9531136810296771, 0, -0.5535769559317093]])\n",
    "\n",
    "# # Generate the unitary matrix\n",
    "# add_half = False\n",
    "# U, n_query_qubits, dimension = get_unitary(matrix, add_half = add_half)\n",
    "\n",
    "# # Print the unitary matrix\n",
    "# print('The unitary matrix is:')\n",
    "# print(U)\n",
    "# print()\n",
    "\n",
    "# ## Test case 5: Henon-Heiles attractor\n",
    "# matrix = np.matrix([[-3.447326437678378, 0.43502867919707094, 0.5648508611549685, 3.5314502836727115], \n",
    "#                     [0.35152401369895725, -3.9276491603951906, 0, 3.3750502471413593], \n",
    "#                     [0.4010732143145958, 0, -3.888122068347508, 3.3727960599040707], \n",
    "#                     [2.6947292096648248, 3.49262048119812, 3.3232712071925397, -10.279299529684552]])\n",
    "\n",
    "# # Generate the unitary matrix\n",
    "# add_half = False\n",
    "# U, n_query_qubits, dimension = get_unitary(matrix, add_half = add_half)\n",
    "\n",
    "# # Print the unitary matrix\n",
    "# print('The unitary matrix is:')\n",
    "# print(U)\n",
    "# print()\n",
    "\n",
    "# ## Test case: a case considered by Ding in his analysis\n",
    "# # Defining parameters\n",
    "# nmax = 15\n",
    "# dx = 0.01\n",
    "# a = 10\n",
    "# gamma = 2\n",
    "# c = 3\n",
    "# L = 2\n",
    "# shift = 0\n",
    "# moments = [1, 2, 3, 4, 5] # to compute the moments of the distribution(s)\n",
    "\n",
    "# #3, 5, 1, 1\n",
    "# x = np.linspace(-5, 5, int((10)/dx))\n",
    "# y = perturbed_ornstein_uhlenbeck(x, a = a, gamma = gamma, c = c, shift = shift)\n",
    "\n",
    "# ## Finding the zeromode through direct integration\n",
    "# cache_projection = integrate_eigenvector(x, y, nmax, L)\n",
    "# x_projection, y_projection = reconstruct_eigenvector(cache_projection)\n",
    "\n",
    "# ## Finding the zeromode through diagonalization\n",
    "# op_nonhermitian = create_operator_perturbed(nmax, L, a, c, gamma)\n",
    "# only_even = True\n",
    "\n",
    "# cache_diagonalization = find_zeromode(op_nonhermitian, nmax, x, dx, L, which = \"single\", only_even = only_even)\n",
    "# x_diagonalization, y_diagonalization = reconstruct_eigenvector(cache_diagonalization, only_even = only_even)\n",
    "\n",
    "# Schogl model matrix\n",
    "# hermitian_matrix = np.array([[0, 0, 0, 0, -0.625, 2.95, 0, 0], [0, 0, 0, 0, 0.625, -3.575, 5.9, 0], [0, 0, 0, 0, 0, 0.625, -8.925, 9.426], \\\n",
    "#                             [0, 0, 0, 0, 0, 0, 3.025, -9.426], [-0.625, 0.625, 0, 0, 0, 0, 0, 0], [2.95, -3.575, 0.625, 0, 0, 0, 0, 0], [0, 5.9, -8.925, 3.025, 0, 0, 0, 0], \\\n",
    "#                             [0, 0, 9.426, -9.426, 0, 0, 0, 0]])\n",
    "\n",
    "# # Generate the unitary matrix\n",
    "# add_half = False\n",
    "# U, n_query_qubits, dimension = get_unitary(hermitian_matrix, add_half = add_half)\n",
    "\n",
    "# # Print the unitary matrix\n",
    "# print('The unitary matrix is:')\n",
    "# print(U)\n",
    "# print()\n",
    "\n",
    "## Computing the block diagonal representation of the Schlogl model matrix\n",
    "# Defining parameters\n",
    "a = 1\n",
    "b = 1\n",
    "k1 = 3\n",
    "k2 = 0.6\n",
    "k3 = 0.25\n",
    "k4 = 2.95\n",
    "\n",
    "# Number of qubits\n",
    "num_operator_qubits = 2\n",
    "\n",
    "# Matrix dimensions\n",
    "N = 2 ** num_operator_qubits\n",
    "\n",
    "# Generating the basis size array\n",
    "x_axis = []\n",
    "\n",
    "for i in range(2 * N):\n",
    "    x_axis.append(i)\n",
    "\n",
    "# ## Constructing the Schlogl operator for V = 10.5\n",
    "# # Get the volume array\n",
    "# start_V = 0.1\n",
    "# stop_V = 1.6\n",
    "# volume_array = get_volume_array(start_V, stop_V, num_operator_qubits)\n",
    "\n",
    "# For system volume V = 10.5\n",
    "volume_array = np.arange(0.1, 5.6, 0.1)\n",
    "\n",
    "# Construct the matrix representation of the operator\n",
    "for i, V in enumerate(volume_array):\n",
    "    \n",
    "    # Birth and death rates\n",
    "    lambda_fn = lambda n: ((a*k1*n*(n-1))/V + b*k3*V)\n",
    "    mu_fn = lambda n: ((k2*n*(n-1)*(n-2))/V**2 + n*k4)\n",
    "\n",
    "    # stochastic matrix Q of dimension N x N\n",
    "    Q = TridiagA(lambda_fn, mu_fn, N)\n",
    "    \n",
    "    i += 1\n",
    "######################################################################    "
   ]
  },
  {
   "cell_type": "markdown",
   "id": "9bd8ee64",
   "metadata": {},
   "source": [
    "## Function to compute the expectation value"
   ]
  },
  {
   "cell_type": "code",
   "execution_count": 9,
   "id": "304b5c72",
   "metadata": {},
   "outputs": [],
   "source": [
    "def get_expectation(Q, zeromode):\n",
    "    # Function to compute the expectation value of the Schlogl operator wrt the zeromode\n",
    "    \n",
    "    # Get the relevant components of the zeromode\n",
    "    zeromode = zeromode[4:]\n",
    "    \n",
    "    value = np.dot(Q, zeromode)\n",
    "    expectation_val = np.dot(np.transpose(zeromode), value)\n",
    "    \n",
    "    return expectation_val"
   ]
  },
  {
   "cell_type": "markdown",
   "id": "ac5a4baf",
   "metadata": {},
   "source": [
    "## Operator expectation values"
   ]
  },
  {
   "cell_type": "markdown",
   "id": "0b336507",
   "metadata": {},
   "source": [
    "### Classical result"
   ]
  },
  {
   "cell_type": "code",
   "execution_count": 29,
   "id": "3e53af93",
   "metadata": {},
   "outputs": [
    {
     "name": "stdout",
     "output_type": "stream",
     "text": [
      "The expectation value of the Schlogl operator wrt the zeromode is:\n",
      "[[3.31888643e-09]]\n",
      "\n"
     ]
    }
   ],
   "source": [
    "# Get the zeromode\n",
    "zeromode_classic = [[-0.02978204], [-0.02978204], [-0.02978204], [-0.02978204], [ 0.90161196], [ 0.42024286], [ 0.09793796], [ 0.02692673]]\n",
    "\n",
    "# Compute the expectation value\n",
    "expectation_value = get_expectation(Q, zeromode_classic)\n",
    "\n",
    "# Print the expectation value\n",
    "print('The expectation value of the Schlogl operator wrt the zeromode is:')\n",
    "print(expectation_value)\n",
    "print()"
   ]
  },
  {
   "cell_type": "markdown",
   "id": "3bf9fcd7",
   "metadata": {},
   "source": [
    "### Quantum results"
   ]
  },
  {
   "cell_type": "markdown",
   "id": "09040611",
   "metadata": {},
   "source": [
    "#### In the absence of DD"
   ]
  },
  {
   "cell_type": "code",
   "execution_count": 30,
   "id": "30654a6e",
   "metadata": {},
   "outputs": [
    {
     "name": "stdout",
     "output_type": "stream",
     "text": [
      "The expectation value of the Schlogl operator wrt the zeromode is:\n",
      "[[0.00014742]]\n",
      "\n"
     ]
    }
   ],
   "source": [
    "# Get the zeromode\n",
    "zeromode_qpe = [[-0.15064175], [-0.15050615], [-0.15061936], [-0.15065551], [ 0.8089274 ], [ 0.37695244], [ 0.0879932 ], [ 0.02422124]]\n",
    "\n",
    "# Compute the expectation value\n",
    "expectation_value = get_expectation(Q, zeromode_qpe)\n",
    "\n",
    "# Print the expectation value\n",
    "print('The expectation value of the Schlogl operator wrt the zeromode is:')\n",
    "print(expectation_value)\n",
    "print()"
   ]
  },
  {
   "cell_type": "markdown",
   "id": "a6a7ae00",
   "metadata": {},
   "source": [
    "#### In the presence of DD"
   ]
  },
  {
   "cell_type": "markdown",
   "id": "871b2a32",
   "metadata": {},
   "source": [
    "#### For the Hahn-X sequence"
   ]
  },
  {
   "cell_type": "code",
   "execution_count": 31,
   "id": "4f4cbcc5",
   "metadata": {},
   "outputs": [
    {
     "name": "stdout",
     "output_type": "stream",
     "text": [
      "The expectation value of the Schlogl operator wrt the zeromode is:\n",
      "[[0.00012638]]\n",
      "\n"
     ]
    }
   ],
   "source": [
    "# Get the zeromode\n",
    "zeromode_qpe = [[-0.1674637 ], [-0.1674314 ], [-0.167461  ], [-0.16754349], [ 0.79850173], [ 0.3721043 ], [ 0.08683162], [ 0.02393739]]\n",
    "\n",
    "# Compute the expectation value\n",
    "expectation_value = get_expectation(Q, zeromode_qpe)\n",
    "\n",
    "# Print the expectation value\n",
    "print('The expectation value of the Schlogl operator wrt the zeromode is:')\n",
    "print(expectation_value)\n",
    "print()"
   ]
  },
  {
   "cell_type": "markdown",
   "id": "3898a0bf",
   "metadata": {},
   "source": [
    "#### For the Hahn-Y sequence"
   ]
  },
  {
   "cell_type": "code",
   "execution_count": 32,
   "id": "b30eb2b3",
   "metadata": {},
   "outputs": [
    {
     "name": "stdout",
     "output_type": "stream",
     "text": [
      "The expectation value of the Schlogl operator wrt the zeromode is:\n",
      "[[0.00012638]]\n",
      "\n"
     ]
    }
   ],
   "source": [
    "# Get the zeromode\n",
    "zeromode_qpe = [[-0.1674637 ], [-0.1674314 ], [-0.167461  ], [-0.16754349], [ 0.79850173], [ 0.3721043 ], [ 0.08683162], [ 0.02393739]]\n",
    "\n",
    "# Compute the expectation value\n",
    "expectation_value = get_expectation(Q, zeromode_qpe)\n",
    "\n",
    "# Print the expectation value\n",
    "print('The expectation value of the Schlogl operator wrt the zeromode is:')\n",
    "print(expectation_value)\n",
    "print()"
   ]
  },
  {
   "cell_type": "markdown",
   "id": "dc0aac83",
   "metadata": {},
   "source": [
    "#### For the CP sequence"
   ]
  },
  {
   "cell_type": "code",
   "execution_count": 33,
   "id": "8314396d",
   "metadata": {},
   "outputs": [
    {
     "name": "stdout",
     "output_type": "stream",
     "text": [
      "The expectation value of the Schlogl operator wrt the zeromode is:\n",
      "[[0.00014703]]\n",
      "\n"
     ]
    }
   ],
   "source": [
    "# Get the zeromode\n",
    "zeromode_qpe = [[-0.15173502], [-0.15158972], [-0.15170439], [-0.15173636], [ 0.8130007 ], [ 0.37884486], [ 0.08843931], [ 0.02434049]]\n",
    "\n",
    "# Compute the expectation value\n",
    "expectation_value = get_expectation(Q, zeromode_qpe)\n",
    "\n",
    "# Print the expectation value\n",
    "print('The expectation value of the Schlogl operator wrt the zeromode is:')\n",
    "print(expectation_value)\n",
    "print()"
   ]
  },
  {
   "cell_type": "markdown",
   "id": "f25e7e7f",
   "metadata": {},
   "source": [
    "#### For the CPMG sequence"
   ]
  },
  {
   "cell_type": "code",
   "execution_count": 34,
   "id": "9429b720",
   "metadata": {},
   "outputs": [
    {
     "name": "stdout",
     "output_type": "stream",
     "text": [
      "The expectation value of the Schlogl operator wrt the zeromode is:\n",
      "[[0.00014703]]\n",
      "\n"
     ]
    }
   ],
   "source": [
    "# Get the zeromode\n",
    "zeromode_qpe = [[-0.15173502], [-0.15158972], [-0.15170439], [-0.15173636], [ 0.8130007 ], [ 0.37884486], [ 0.08843931], [ 0.02434049]]\n",
    "\n",
    "# Compute the expectation value\n",
    "expectation_value = get_expectation(Q, zeromode_qpe)\n",
    "\n",
    "# Print the expectation value\n",
    "print('The expectation value of the Schlogl operator wrt the zeromode is:')\n",
    "print(expectation_value)\n",
    "print()"
   ]
  },
  {
   "cell_type": "markdown",
   "id": "214a70ea",
   "metadata": {},
   "source": [
    "#### For the XYXY sequence"
   ]
  },
  {
   "cell_type": "code",
   "execution_count": 35,
   "id": "f591ecb1",
   "metadata": {},
   "outputs": [
    {
     "name": "stdout",
     "output_type": "stream",
     "text": [
      "The expectation value of the Schlogl operator wrt the zeromode is:\n",
      "[[0.00015472]]\n",
      "\n"
     ]
    }
   ],
   "source": [
    "# Get the zeromode\n",
    "zeromode_qpe = [[-0.1270295 ], [-0.12691438], [-0.12701632], [-0.12706234], [ 0.8173739 ], [ 0.38090494], [ 0.0888997 ], [ 0.02448934]]\n",
    "\n",
    "# Compute the expectation value\n",
    "expectation_value = get_expectation(Q, zeromode_qpe)\n",
    "\n",
    "# Print the expectation value\n",
    "print('The expectation value of the Schlogl operator wrt the zeromode is:')\n",
    "print(expectation_value)\n",
    "print()"
   ]
  },
  {
   "cell_type": "markdown",
   "id": "152bb934",
   "metadata": {},
   "source": [
    "#### For the YZYZ sequence"
   ]
  },
  {
   "cell_type": "code",
   "execution_count": 36,
   "id": "0ac0f4dd",
   "metadata": {},
   "outputs": [
    {
     "name": "stdout",
     "output_type": "stream",
     "text": [
      "The expectation value of the Schlogl operator wrt the zeromode is:\n",
      "[[0.00014472]]\n",
      "\n"
     ]
    }
   ],
   "source": [
    "# Get the zeromode\n",
    "zeromode_qpe = [[-0.15042341], [-0.15028976], [-0.15040255], [-0.15044083],  [ 0.80756724], [ 0.37632096], [ 0.08784207], [ 0.02418164]]\n",
    "\n",
    "# Compute the expectation value\n",
    "expectation_value = get_expectation(Q, zeromode_qpe)\n",
    "\n",
    "# Print the expectation value\n",
    "print('The expectation value of the Schlogl operator wrt the zeromode is:')\n",
    "print(expectation_value)\n",
    "print()"
   ]
  },
  {
   "cell_type": "markdown",
   "id": "e05cdd28",
   "metadata": {},
   "source": [
    "#### For the XZXZ sequence"
   ]
  },
  {
   "cell_type": "code",
   "execution_count": 37,
   "id": "c73299e2",
   "metadata": {},
   "outputs": [
    {
     "name": "stdout",
     "output_type": "stream",
     "text": [
      "The expectation value of the Schlogl operator wrt the zeromode is:\n",
      "[[0.00014472]]\n",
      "\n"
     ]
    }
   ],
   "source": [
    "# Get the zeromode\n",
    "zeromode_qpe = [[-0.15042341], [-0.15028976], [-0.15040255], [-0.15044083],  [ 0.80756724], [ 0.37632096], [ 0.08784207], [ 0.02418164]]\n",
    "\n",
    "# Compute the expectation value\n",
    "expectation_value = get_expectation(Q, zeromode_qpe)\n",
    "\n",
    "# Print the expectation value\n",
    "print('The expectation value of the Schlogl operator wrt the zeromode is:')\n",
    "print(expectation_value)\n",
    "print()"
   ]
  },
  {
   "cell_type": "markdown",
   "id": "a711e924",
   "metadata": {},
   "source": [
    "#### For the CDD sequence (order 2)"
   ]
  },
  {
   "cell_type": "code",
   "execution_count": 38,
   "id": "8f14c747",
   "metadata": {},
   "outputs": [
    {
     "name": "stdout",
     "output_type": "stream",
     "text": [
      "The expectation value of the Schlogl operator wrt the zeromode is:\n",
      "[[0.00014285]]\n",
      "\n"
     ]
    }
   ],
   "source": [
    "# Get the zeromode\n",
    "zeromode_qpe = [[-0.13479193], [-0.13466981], [-0.13478002], [-0.13483028], [ 0.80197144], [ 0.37372518], [ 0.08722316], [ 0.02402385]]\n",
    "\n",
    "# Compute the expectation value\n",
    "expectation_value = get_expectation(Q, zeromode_qpe)\n",
    "\n",
    "# Print the expectation value\n",
    "print('The expectation value of the Schlogl operator wrt the zeromode is:')\n",
    "print(expectation_value)\n",
    "print()"
   ]
  },
  {
   "cell_type": "markdown",
   "id": "a2f1d4e6",
   "metadata": {},
   "source": [
    "#### For the XY8 sequence"
   ]
  },
  {
   "cell_type": "code",
   "execution_count": 39,
   "id": "f44c449b",
   "metadata": {},
   "outputs": [
    {
     "name": "stdout",
     "output_type": "stream",
     "text": [
      "The expectation value of the Schlogl operator wrt the zeromode is:\n",
      "[[0.00014472]]\n",
      "\n"
     ]
    }
   ],
   "source": [
    "# Get the zeromode\n",
    "zeromode_qpe = [[-0.15042341], [-0.15028976], [-0.15040255], [-0.15044083],  [ 0.80756724], [ 0.37632096], [ 0.08784207], [ 0.02418164]]\n",
    "\n",
    "# Compute the expectation value\n",
    "expectation_value = get_expectation(Q, zeromode_qpe)\n",
    "\n",
    "# Print the expectation value\n",
    "print('The expectation value of the Schlogl operator wrt the zeromode is:')\n",
    "print(expectation_value)\n",
    "print()"
   ]
  },
  {
   "cell_type": "markdown",
   "id": "fb69748f",
   "metadata": {},
   "source": [
    "#### For the XY16 sequence"
   ]
  },
  {
   "cell_type": "code",
   "execution_count": 40,
   "id": "a684c44e",
   "metadata": {},
   "outputs": [
    {
     "name": "stdout",
     "output_type": "stream",
     "text": [
      "The expectation value of the Schlogl operator wrt the zeromode is:\n",
      "[[0.00015461]]\n",
      "\n"
     ]
    }
   ],
   "source": [
    "# Get the zeromode\n",
    "zeromode_qpe = [[-0.12829413], [-0.12819447], [-0.12828764], [-0.12834007], [ 0.814061  ], [ 0.37936616], [ 0.08853669], [ 0.02439156]]\n",
    "\n",
    "# Compute the expectation value\n",
    "expectation_value = get_expectation(Q, zeromode_qpe)\n",
    "\n",
    "# Print the expectation value\n",
    "print('The expectation value of the Schlogl operator wrt the zeromode is:')\n",
    "print(expectation_value)\n",
    "print()"
   ]
  },
  {
   "cell_type": "markdown",
   "id": "b2666649",
   "metadata": {},
   "source": [
    "#### For the Uhrig-X sequence"
   ]
  },
  {
   "cell_type": "code",
   "execution_count": 41,
   "id": "52609c31",
   "metadata": {},
   "outputs": [
    {
     "name": "stdout",
     "output_type": "stream",
     "text": [
      "The expectation value of the Schlogl operator wrt the zeromode is:\n",
      "[[0.00015472]]\n",
      "\n"
     ]
    }
   ],
   "source": [
    "# Get the zeromode\n",
    "zeromode_qpe = [[-0.1270295 ], [-0.12691438], [-0.12701632], [-0.12706234], [ 0.8173739 ], [ 0.38090494], [ 0.0888997 ], [ 0.02448934]]\n",
    "\n",
    "# Compute the expectation value\n",
    "expectation_value = get_expectation(Q, zeromode_qpe)\n",
    "\n",
    "# Print the expectation value\n",
    "print('The expectation value of the Schlogl operator wrt the zeromode is:')\n",
    "print(expectation_value)\n",
    "print()"
   ]
  },
  {
   "cell_type": "markdown",
   "id": "a8fe8367",
   "metadata": {},
   "source": [
    "#### For the Uhrig-Y sequence"
   ]
  },
  {
   "cell_type": "code",
   "execution_count": 42,
   "id": "e08d34f2",
   "metadata": {},
   "outputs": [
    {
     "name": "stdout",
     "output_type": "stream",
     "text": [
      "The expectation value of the Schlogl operator wrt the zeromode is:\n",
      "[[0.0001454]]\n",
      "\n"
     ]
    }
   ],
   "source": [
    "# Get the zeromode\n",
    "zeromode_qpe = [[-0.13415916], [-0.13403198], [-0.13414232], [-0.13419208], [ 0.80466694], [ 0.37497818], [ 0.08751899], [ 0.02410497]]\n",
    "\n",
    "# Compute the expectation value\n",
    "expectation_value = get_expectation(Q, zeromode_qpe)\n",
    "\n",
    "# Print the expectation value\n",
    "print('The expectation value of the Schlogl operator wrt the zeromode is:')\n",
    "print(expectation_value)\n",
    "print()"
   ]
  },
  {
   "cell_type": "markdown",
   "id": "d2db983c",
   "metadata": {},
   "source": [
    "#### For the KDD sequence"
   ]
  },
  {
   "cell_type": "code",
   "execution_count": 43,
   "id": "9fd4c67d",
   "metadata": {},
   "outputs": [
    {
     "name": "stdout",
     "output_type": "stream",
     "text": [
      "The expectation value of the Schlogl operator wrt the zeromode is:\n",
      "[[0.00014529]]\n",
      "\n"
     ]
    }
   ],
   "source": [
    "# Get the zeromode\n",
    "zeromode_qpe = [[-0.13434207], [-0.13421619], [-0.1343268 ], [-0.1343778 ], [ 0.80387527], [ 0.3746095 ], [ 0.08743289], [ 0.02408118]]\n",
    "\n",
    "# Compute the expectation value\n",
    "expectation_value = get_expectation(Q, zeromode_qpe)\n",
    "\n",
    "# Print the expectation value\n",
    "print('The expectation value of the Schlogl operator wrt the zeromode is:')\n",
    "print(expectation_value)\n",
    "print()"
   ]
  }
 ],
 "metadata": {
  "kernelspec": {
   "display_name": "Python 3 (ipykernel)",
   "language": "python",
   "name": "python3"
  },
  "language_info": {
   "codemirror_mode": {
    "name": "ipython",
    "version": 3
   },
   "file_extension": ".py",
   "mimetype": "text/x-python",
   "name": "python",
   "nbconvert_exporter": "python",
   "pygments_lexer": "ipython3",
   "version": "3.10.9"
  }
 },
 "nbformat": 4,
 "nbformat_minor": 5
}
