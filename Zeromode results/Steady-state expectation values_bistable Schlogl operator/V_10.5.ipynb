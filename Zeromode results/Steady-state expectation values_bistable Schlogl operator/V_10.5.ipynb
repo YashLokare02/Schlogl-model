{
 "cells": [
  {
   "cell_type": "code",
   "execution_count": 1,
   "id": "bdd9d76a",
   "metadata": {},
   "outputs": [],
   "source": [
    "import numpy as np"
   ]
  },
  {
   "cell_type": "markdown",
   "id": "10360103",
   "metadata": {},
   "source": [
    "## Function to generate the Schlogl matrix"
   ]
  },
  {
   "cell_type": "code",
   "execution_count": 7,
   "id": "9e0a8a22",
   "metadata": {},
   "outputs": [],
   "source": [
    "def TridiagA(lambda_func, mu_func, N):\n",
    "    \"\"\"\n",
    "    Creates tridiagonal stochastic matrix for the Schlogl model\n",
    "    Inputs lambda and mu model functions, and N desired size of matrix\n",
    "    Returns stochastic matrix (non-hermitian)\n",
    "    \"\"\"\n",
    "    # initialize diagonals\n",
    "    d1 = np.zeros(N - 1)\n",
    "    d2 = np.zeros(N)\n",
    "    d3 = np.zeros(N - 1)\n",
    "\n",
    "    # element 1,1\n",
    "    d2[0] = -lambda_func(0)\n",
    "\n",
    "    # element N,N\n",
    "    d2[N - 1] = -mu_func(N - 1)\n",
    "\n",
    "    # bottom diagonal elements\n",
    "    for i in range(N - 1):\n",
    "        d1[i] = lambda_func(i)\n",
    "\n",
    "    # top diagonal elements\n",
    "    for i in range(1, N):\n",
    "        d3[i - 1] = mu_func(i)\n",
    "\n",
    "    # main diagonal elements\n",
    "    for i in range(1, N - 1):\n",
    "        d2[i] = -lambda_func(i) - mu_func(i)\n",
    "\n",
    "    # putting the diagonals together\n",
    "    Q = np.diag(d1, k = -1) + np.diag(d2, k = 0) + np.diag(d3, k = 1)\n",
    "    \n",
    "    return Q\n",
    "\n",
    "def get_volume_array(start_V, stop_V, n_operator_qubits):\n",
    "    # Function to generate the volume array (to carry out computations)\n",
    "    \n",
    "    num_elements = 2 ** n_operator_qubits\n",
    "    step_size = (stop_V - start_V)/(num_elements - 1)\n",
    "    \n",
    "    # Generate the volume array, given that the step size has been determined\n",
    "    volume_array = np.arange(start_V, stop_V, step_size)\n",
    "    \n",
    "    return volume_array"
   ]
  },
  {
   "cell_type": "markdown",
   "id": "6c61e551",
   "metadata": {},
   "source": [
    "## Construct the Schlogl matrix (for V = 10.5)"
   ]
  },
  {
   "cell_type": "code",
   "execution_count": 44,
   "id": "01f70171",
   "metadata": {},
   "outputs": [],
   "source": [
    "# Defining parameters\n",
    "# nmax = 15\n",
    "# dx = 0.01\n",
    "# a = 4\n",
    "# gamma = 3\n",
    "# c = 1\n",
    "# L = 1\n",
    "# shift = 0\n",
    "\n",
    "# #3, 5, 1, 1\n",
    "# x = np.linspace(-5, 5, int((5+5)/dx))\n",
    "# y = perturbed_ornstein_uhlenbeck(x, a = a, gamma = gamma, c = c, shift = shift)\n",
    "\n",
    "# ## Finding the zeromode through direct integration\n",
    "# cache_projection = integrate_eigenvector(x, y, nmax, L)\n",
    "# x_projection, y_projection = reconstruct_eigenvector(cache_projection)\n",
    "\n",
    "# ## Finding the zeromode through diagonalization\n",
    "# op_nonhermitian = create_operator_perturbed(nmax, L, a, c, gamma)\n",
    "# only_even = True\n",
    "\n",
    "# cache_diagonalization = find_zeromode(op_nonhermitian, nmax, x, dx, L, which = \"single\", only_even = only_even)\n",
    "# x_diagonalization, y_diagonalization = reconstruct_eigenvector(cache_diagonalization, only_even = only_even)\n",
    "\n",
    "# # Test case 2 (for a different matrix)\n",
    "# def generate_matrix(eigenvalues):\n",
    "#     \"\"\"\n",
    "#     Purpose:\n",
    "#         create a matrix with known eigenvalues\n",
    "#     Input:\n",
    "#         eigenvalues: Numpy array of the desired eigenvalues\n",
    "#     Output:\n",
    "#         M: a random matrix with the input eigenvalues\n",
    "#     \"\"\"\n",
    "#     n = len(eigenvalues)\n",
    "#     s = np.diag(eigenvalues)\n",
    "#     q, _ = la.qr(np.random.rand(n, n))\n",
    "#     M = q.T @ s @ q\n",
    "\n",
    "#     return M\n",
    "\n",
    "# matrix = generate_matrix([0, np.pi/2, np.pi, np.pi/4])\n",
    "# add_half = False\n",
    "\n",
    "# U, n_query_qubits, dimension = get_unitary(matrix, add_half = add_half)\n",
    "\n",
    "# # Print the unitary matrix as a check\n",
    "# print('The unitary matrix is:')\n",
    "# print(U)\n",
    "# print()\n",
    "\n",
    "# ## Test case 3: Lorenz attractor\n",
    "# matrix = np.matrix([[-1.17, 1.93, 0.65], [0.52, -3.86, 0.52], [0.65, 1.93, -1.17]])\n",
    "\n",
    "# # Generate the unitary matrix\n",
    "# add_half = False\n",
    "# U, n_query_qubits, dimension = get_unitary(matrix, add_half = add_half)\n",
    "\n",
    "# # Print the unitary matrix\n",
    "# print('The unitary matrix is:')\n",
    "# print(U)\n",
    "# print()\n",
    "\n",
    "# ## Test case 4: Rossler attractor\n",
    "# matrix = np.matrix([[-0.6495892960005145, 0, 0, 0.5535769559317093], [0, -0.9531175033919642, 0.6844907226212461, 0], \n",
    "#                     [0.6495892960005145, 0, -0.6844907226212461, 0], [0, 0.9531136810296771, 0, -0.5535769559317093]])\n",
    "\n",
    "# # Generate the unitary matrix\n",
    "# add_half = False\n",
    "# U, n_query_qubits, dimension = get_unitary(matrix, add_half = add_half)\n",
    "\n",
    "# # Print the unitary matrix\n",
    "# print('The unitary matrix is:')\n",
    "# print(U)\n",
    "# print()\n",
    "\n",
    "# ## Test case 5: Henon-Heiles attractor\n",
    "# matrix = np.matrix([[-3.447326437678378, 0.43502867919707094, 0.5648508611549685, 3.5314502836727115], \n",
    "#                     [0.35152401369895725, -3.9276491603951906, 0, 3.3750502471413593], \n",
    "#                     [0.4010732143145958, 0, -3.888122068347508, 3.3727960599040707], \n",
    "#                     [2.6947292096648248, 3.49262048119812, 3.3232712071925397, -10.279299529684552]])\n",
    "\n",
    "# # Generate the unitary matrix\n",
    "# add_half = False\n",
    "# U, n_query_qubits, dimension = get_unitary(matrix, add_half = add_half)\n",
    "\n",
    "# # Print the unitary matrix\n",
    "# print('The unitary matrix is:')\n",
    "# print(U)\n",
    "# print()\n",
    "\n",
    "# ## Test case: a case considered by Ding in his analysis\n",
    "# # Defining parameters\n",
    "# nmax = 15\n",
    "# dx = 0.01\n",
    "# a = 10\n",
    "# gamma = 2\n",
    "# c = 3\n",
    "# L = 2\n",
    "# shift = 0\n",
    "# moments = [1, 2, 3, 4, 5] # to compute the moments of the distribution(s)\n",
    "\n",
    "# #3, 5, 1, 1\n",
    "# x = np.linspace(-5, 5, int((10)/dx))\n",
    "# y = perturbed_ornstein_uhlenbeck(x, a = a, gamma = gamma, c = c, shift = shift)\n",
    "\n",
    "# ## Finding the zeromode through direct integration\n",
    "# cache_projection = integrate_eigenvector(x, y, nmax, L)\n",
    "# x_projection, y_projection = reconstruct_eigenvector(cache_projection)\n",
    "\n",
    "# ## Finding the zeromode through diagonalization\n",
    "# op_nonhermitian = create_operator_perturbed(nmax, L, a, c, gamma)\n",
    "# only_even = True\n",
    "\n",
    "# cache_diagonalization = find_zeromode(op_nonhermitian, nmax, x, dx, L, which = \"single\", only_even = only_even)\n",
    "# x_diagonalization, y_diagonalization = reconstruct_eigenvector(cache_diagonalization, only_even = only_even)\n",
    "\n",
    "# Schogl model matrix\n",
    "# hermitian_matrix = np.array([[0, 0, 0, 0, -0.625, 2.95, 0, 0], [0, 0, 0, 0, 0.625, -3.575, 5.9, 0], [0, 0, 0, 0, 0, 0.625, -8.925, 9.426], \\\n",
    "#                             [0, 0, 0, 0, 0, 0, 3.025, -9.426], [-0.625, 0.625, 0, 0, 0, 0, 0, 0], [2.95, -3.575, 0.625, 0, 0, 0, 0, 0], [0, 5.9, -8.925, 3.025, 0, 0, 0, 0], \\\n",
    "#                             [0, 0, 9.426, -9.426, 0, 0, 0, 0]])\n",
    "\n",
    "# # Generate the unitary matrix\n",
    "# add_half = False\n",
    "# U, n_query_qubits, dimension = get_unitary(hermitian_matrix, add_half = add_half)\n",
    "\n",
    "# # Print the unitary matrix\n",
    "# print('The unitary matrix is:')\n",
    "# print(U)\n",
    "# print()\n",
    "\n",
    "## Computing the block diagonal representation of the Schlogl model matrix\n",
    "# Defining parameters\n",
    "a = 1\n",
    "b = 1\n",
    "k1 = 3\n",
    "k2 = 0.6\n",
    "k3 = 0.25\n",
    "k4 = 2.95\n",
    "\n",
    "# Number of qubits\n",
    "num_operator_qubits = 2\n",
    "\n",
    "# Matrix dimensions\n",
    "N = 2 ** num_operator_qubits\n",
    "\n",
    "# Generating the basis size array\n",
    "x_axis = []\n",
    "\n",
    "for i in range(2 * N):\n",
    "    x_axis.append(i)\n",
    "\n",
    "# ## Constructing the Schlogl operator for V = 10.5\n",
    "# # Get the volume array\n",
    "# start_V = 0.1\n",
    "# stop_V = 1.6\n",
    "# volume_array = get_volume_array(start_V, stop_V, num_operator_qubits)\n",
    "\n",
    "# For system volume V = 10.5\n",
    "volume_array = np.arange(0.1, 10.6, 0.1)\n",
    "\n",
    "# Construct the matrix representation of the operator\n",
    "for i, V in enumerate(volume_array):\n",
    "    \n",
    "    # Birth and death rates\n",
    "    lambda_fn = lambda n: ((a*k1*n*(n-1))/V + b*k3*V)\n",
    "    mu_fn = lambda n: ((k2*n*(n-1)*(n-2))/V**2 + n*k4)\n",
    "\n",
    "    # stochastic matrix Q of dimension N x N\n",
    "    Q = TridiagA(lambda_fn, mu_fn, N)\n",
    "    \n",
    "    i += 1\n",
    "######################################################################    "
   ]
  },
  {
   "cell_type": "markdown",
   "id": "d1b76579",
   "metadata": {},
   "source": [
    "## Function to compute the expectation value"
   ]
  },
  {
   "cell_type": "code",
   "execution_count": 9,
   "id": "d7c0a625",
   "metadata": {},
   "outputs": [],
   "source": [
    "def get_expectation(Q, zeromode):\n",
    "    # Function to compute the expectation value of the Schlogl operator wrt the zeromode\n",
    "    \n",
    "    # Get the relevant components of the zeromode\n",
    "    zeromode = zeromode[4:]\n",
    "    \n",
    "    value = np.dot(Q, zeromode)\n",
    "    expectation_val = np.dot(np.transpose(zeromode), value)\n",
    "    \n",
    "    return expectation_val"
   ]
  },
  {
   "cell_type": "markdown",
   "id": "e9a28eee",
   "metadata": {},
   "source": [
    "## Operator expectation values"
   ]
  },
  {
   "cell_type": "markdown",
   "id": "ea7680cc",
   "metadata": {},
   "source": [
    "### Classical result"
   ]
  },
  {
   "cell_type": "code",
   "execution_count": 45,
   "id": "a4ab53df",
   "metadata": {},
   "outputs": [
    {
     "name": "stdout",
     "output_type": "stream",
     "text": [
      "The expectation value of the Schlogl operator wrt the zeromode is:\n",
      "[[7.79156245e-09]]\n",
      "\n"
     ]
    }
   ],
   "source": [
    "# Get the zeromode\n",
    "zeromode_classic = [[-0.03055364], [-0.03055364], [-0.03055364], [-0.03055364], [ 0.75793751], [ 0.67443592], [ 0.30006683], [ 0.10797925]]\n",
    "\n",
    "# Compute the expectation value\n",
    "expectation_value = get_expectation(Q, zeromode_classic)\n",
    "\n",
    "# Print the expectation value\n",
    "print('The expectation value of the Schlogl operator wrt the zeromode is:')\n",
    "print(expectation_value)\n",
    "print()"
   ]
  },
  {
   "cell_type": "markdown",
   "id": "b6ab7092",
   "metadata": {},
   "source": [
    "### Quantum results"
   ]
  },
  {
   "cell_type": "markdown",
   "id": "830c790c",
   "metadata": {},
   "source": [
    "#### In the absence of DD"
   ]
  },
  {
   "cell_type": "code",
   "execution_count": 46,
   "id": "0d1d6fde",
   "metadata": {},
   "outputs": [
    {
     "name": "stdout",
     "output_type": "stream",
     "text": [
      "The expectation value of the Schlogl operator wrt the zeromode is:\n",
      "[[0.00032416]]\n",
      "\n"
     ]
    }
   ],
   "source": [
    "# Get the zeromode\n",
    "zeromode_qpe = [[0.01715529], [0.01712676], [0.01720677], [0.01692239], [0.69455296], [0.6177703 ], [0.27503303], [0.09898671]]\n",
    "\n",
    "# Compute the expectation value\n",
    "expectation_value = get_expectation(Q, zeromode_qpe)\n",
    "\n",
    "# Print the expectation value\n",
    "print('The expectation value of the Schlogl operator wrt the zeromode is:')\n",
    "print(expectation_value)\n",
    "print()"
   ]
  },
  {
   "cell_type": "markdown",
   "id": "74d449cd",
   "metadata": {},
   "source": [
    "#### In the presence of DD"
   ]
  },
  {
   "cell_type": "markdown",
   "id": "2ca45985",
   "metadata": {},
   "source": [
    "#### For the Hahn-X sequence"
   ]
  },
  {
   "cell_type": "code",
   "execution_count": 47,
   "id": "a60348c1",
   "metadata": {},
   "outputs": [
    {
     "name": "stdout",
     "output_type": "stream",
     "text": [
      "The expectation value of the Schlogl operator wrt the zeromode is:\n",
      "[[0.00028816]]\n",
      "\n"
     ]
    }
   ],
   "source": [
    "# Get the zeromode\n",
    "zeromode_qpe = [[-0.06517107], [-0.06501894], [-0.06503665], [-0.06536458], [ 0.64226896], [ 0.5712447 ], [ 0.25432944], [ 0.09153347]]\n",
    "\n",
    "# Compute the expectation value\n",
    "expectation_value = get_expectation(Q, zeromode_qpe)\n",
    "\n",
    "# Print the expectation value\n",
    "print('The expectation value of the Schlogl operator wrt the zeromode is:')\n",
    "print(expectation_value)\n",
    "print()"
   ]
  },
  {
   "cell_type": "markdown",
   "id": "df61fde2",
   "metadata": {},
   "source": [
    "#### For the Hahn-Y sequence"
   ]
  },
  {
   "cell_type": "code",
   "execution_count": 48,
   "id": "3720bbbd",
   "metadata": {},
   "outputs": [
    {
     "name": "stdout",
     "output_type": "stream",
     "text": [
      "The expectation value of the Schlogl operator wrt the zeromode is:\n",
      "[[0.00028816]]\n",
      "\n"
     ]
    }
   ],
   "source": [
    "# Get the zeromode\n",
    "zeromode_qpe = [[-0.06517107], [-0.06501894], [-0.06503665], [-0.06536458], [ 0.64226896], [ 0.5712447 ], [ 0.25432944], [ 0.09153347]]\n",
    "\n",
    "# Compute the expectation value\n",
    "expectation_value = get_expectation(Q, zeromode_qpe)\n",
    "\n",
    "# Print the expectation value\n",
    "print('The expectation value of the Schlogl operator wrt the zeromode is:')\n",
    "print(expectation_value)\n",
    "print()"
   ]
  },
  {
   "cell_type": "markdown",
   "id": "c4f8bbd7",
   "metadata": {},
   "source": [
    "#### For the CP sequence"
   ]
  },
  {
   "cell_type": "code",
   "execution_count": 49,
   "id": "9bd32f13",
   "metadata": {},
   "outputs": [
    {
     "name": "stdout",
     "output_type": "stream",
     "text": [
      "The expectation value of the Schlogl operator wrt the zeromode is:\n",
      "[[0.00030623]]\n",
      "\n"
     ]
    }
   ],
   "source": [
    "# Get the zeromode\n",
    "zeromode_qpe = [[0.03367938], [0.03365289], [0.03374245], [0.03343106], [0.69493514], [0.61810875], [0.27516764], [0.09904446]]\n",
    "\n",
    "# Compute the expectation value\n",
    "expectation_value = get_expectation(Q, zeromode_qpe)\n",
    "\n",
    "# Print the expectation value\n",
    "print('The expectation value of the Schlogl operator wrt the zeromode is:')\n",
    "print(expectation_value)\n",
    "print()"
   ]
  },
  {
   "cell_type": "markdown",
   "id": "23226cdb",
   "metadata": {},
   "source": [
    "#### For the CPMG sequence"
   ]
  },
  {
   "cell_type": "code",
   "execution_count": 50,
   "id": "42f05165",
   "metadata": {},
   "outputs": [
    {
     "name": "stdout",
     "output_type": "stream",
     "text": [
      "The expectation value of the Schlogl operator wrt the zeromode is:\n",
      "[[0.00031204]]\n",
      "\n"
     ]
    }
   ],
   "source": [
    "# Get the zeromode\n",
    "zeromode_qpe = [[0.03819396], [0.03819838], [0.03828291], [0.03791645], [0.6912459 ], [0.61480856], [0.27370042], [0.09852239]]\n",
    "\n",
    "# Compute the expectation value\n",
    "expectation_value = get_expectation(Q, zeromode_qpe)\n",
    "\n",
    "# Print the expectation value\n",
    "print('The expectation value of the Schlogl operator wrt the zeromode is:')\n",
    "print(expectation_value)\n",
    "print()"
   ]
  },
  {
   "cell_type": "markdown",
   "id": "cd887f7c",
   "metadata": {},
   "source": [
    "#### For the XYXY sequence"
   ]
  },
  {
   "cell_type": "code",
   "execution_count": 51,
   "id": "fcb5a789",
   "metadata": {},
   "outputs": [
    {
     "name": "stdout",
     "output_type": "stream",
     "text": [
      "The expectation value of the Schlogl operator wrt the zeromode is:\n",
      "[[0.00031555]]\n",
      "\n"
     ]
    }
   ],
   "source": [
    "# Get the zeromode\n",
    "zeromode_qpe = [[0.03636096], [0.03636117], [0.03644728], [0.03608774], [0.6922638 ], [0.6157151 ], [0.2741074 ], [0.09866597]]\n",
    "\n",
    "# Compute the expectation value\n",
    "expectation_value = get_expectation(Q, zeromode_qpe)\n",
    "\n",
    "# Print the expectation value\n",
    "print('The expectation value of the Schlogl operator wrt the zeromode is:')\n",
    "print(expectation_value)\n",
    "print()"
   ]
  },
  {
   "cell_type": "markdown",
   "id": "4837f6d2",
   "metadata": {},
   "source": [
    "#### For the YZYZ sequence"
   ]
  },
  {
   "cell_type": "code",
   "execution_count": 52,
   "id": "14987704",
   "metadata": {},
   "outputs": [
    {
     "name": "stdout",
     "output_type": "stream",
     "text": [
      "The expectation value of the Schlogl operator wrt the zeromode is:\n",
      "[[0.00031204]]\n",
      "\n"
     ]
    }
   ],
   "source": [
    "# Get the zeromode\n",
    "zeromode_qpe = [[0.03819396], [0.03819838], [0.03828291], [0.03791645], [0.6912459 ], [0.61480856], [0.27370042], [0.09852239]]\n",
    "\n",
    "# Compute the expectation value\n",
    "expectation_value = get_expectation(Q, zeromode_qpe)\n",
    "\n",
    "# Print the expectation value\n",
    "print('The expectation value of the Schlogl operator wrt the zeromode is:')\n",
    "print(expectation_value)\n",
    "print()"
   ]
  },
  {
   "cell_type": "markdown",
   "id": "a618bc55",
   "metadata": {},
   "source": [
    "#### For the XZXZ sequence"
   ]
  },
  {
   "cell_type": "code",
   "execution_count": 53,
   "id": "15b0e46a",
   "metadata": {},
   "outputs": [
    {
     "name": "stdout",
     "output_type": "stream",
     "text": [
      "The expectation value of the Schlogl operator wrt the zeromode is:\n",
      "[[0.00030623]]\n",
      "\n"
     ]
    }
   ],
   "source": [
    "# Get the zeromode\n",
    "zeromode_qpe = [[0.03367938], [0.03365289], [0.03374245], [0.03343106], [0.69493514], [0.61810875], [0.27516764], [0.09904446]]\n",
    "\n",
    "# Compute the expectation value\n",
    "expectation_value = get_expectation(Q, zeromode_qpe)\n",
    "\n",
    "# Print the expectation value\n",
    "print('The expectation value of the Schlogl operator wrt the zeromode is:')\n",
    "print(expectation_value)\n",
    "print()"
   ]
  },
  {
   "cell_type": "markdown",
   "id": "aa95d29d",
   "metadata": {},
   "source": [
    "#### For the CDD sequence (order 2)"
   ]
  },
  {
   "cell_type": "code",
   "execution_count": 54,
   "id": "e3ea532b",
   "metadata": {},
   "outputs": [
    {
     "name": "stdout",
     "output_type": "stream",
     "text": [
      "The expectation value of the Schlogl operator wrt the zeromode is:\n",
      "[[0.00031555]]\n",
      "\n"
     ]
    }
   ],
   "source": [
    "# Get the zeromode\n",
    "zeromode_qpe = [[0.03636096], [0.03636117], [0.03644728], [0.03608774], [0.6922638 ], [0.6157151 ], [0.2741074 ], [0.09866597]]\n",
    "\n",
    "# Compute the expectation value\n",
    "expectation_value = get_expectation(Q, zeromode_qpe)\n",
    "\n",
    "# Print the expectation value\n",
    "print('The expectation value of the Schlogl operator wrt the zeromode is:')\n",
    "print(expectation_value)\n",
    "print()"
   ]
  },
  {
   "cell_type": "markdown",
   "id": "970a4e4c",
   "metadata": {},
   "source": [
    "#### For the XY8 sequence"
   ]
  },
  {
   "cell_type": "code",
   "execution_count": 55,
   "id": "1aec3afb",
   "metadata": {},
   "outputs": [
    {
     "name": "stdout",
     "output_type": "stream",
     "text": [
      "The expectation value of the Schlogl operator wrt the zeromode is:\n",
      "[[0.00031555]]\n",
      "\n"
     ]
    }
   ],
   "source": [
    "# Get the zeromode\n",
    "zeromode_qpe = [[0.03636096], [0.03636117], [0.03644728], [0.03608774], [0.6922638 ], [0.6157151 ], [0.2741074 ], [0.09866597]]\n",
    "\n",
    "# Compute the expectation value\n",
    "expectation_value = get_expectation(Q, zeromode_qpe)\n",
    "\n",
    "# Print the expectation value\n",
    "print('The expectation value of the Schlogl operator wrt the zeromode is:')\n",
    "print(expectation_value)\n",
    "print()"
   ]
  },
  {
   "cell_type": "markdown",
   "id": "8784eec3",
   "metadata": {},
   "source": [
    "#### For the XY16 sequence"
   ]
  },
  {
   "cell_type": "code",
   "execution_count": 56,
   "id": "716458ae",
   "metadata": {},
   "outputs": [
    {
     "name": "stdout",
     "output_type": "stream",
     "text": [
      "The expectation value of the Schlogl operator wrt the zeromode is:\n",
      "[[0.00031862]]\n",
      "\n"
     ]
    }
   ],
   "source": [
    "# Get the zeromode\n",
    "zeromode_qpe = [[0.03607859], [0.03607902], [0.03616283], [0.03580668], [0.6923978 ], [0.6158326 ], [0.27416268], [0.09868417]]\n",
    "\n",
    "# Compute the expectation value\n",
    "expectation_value = get_expectation(Q, zeromode_qpe)\n",
    "\n",
    "# Print the expectation value\n",
    "print('The expectation value of the Schlogl operator wrt the zeromode is:')\n",
    "print(expectation_value)\n",
    "print()"
   ]
  },
  {
   "cell_type": "markdown",
   "id": "ca14562c",
   "metadata": {},
   "source": [
    "#### For the Uhrig-X sequence"
   ]
  },
  {
   "cell_type": "code",
   "execution_count": 57,
   "id": "3fb21f25",
   "metadata": {},
   "outputs": [
    {
     "name": "stdout",
     "output_type": "stream",
     "text": [
      "The expectation value of the Schlogl operator wrt the zeromode is:\n",
      "[[0.00030368]]\n",
      "\n"
     ]
    }
   ],
   "source": [
    "# Get the zeromode\n",
    "zeromode_qpe = [[0.03406714], [0.03403994], [0.03413147], [0.03381703], [0.6948572 ], [0.61803967], [0.2751359 ], [0.09903269]]\n",
    "\n",
    "# Compute the expectation value\n",
    "expectation_value = get_expectation(Q, zeromode_qpe)\n",
    "\n",
    "# Print the expectation value\n",
    "print('The expectation value of the Schlogl operator wrt the zeromode is:')\n",
    "print(expectation_value)\n",
    "print()"
   ]
  },
  {
   "cell_type": "markdown",
   "id": "266fabec",
   "metadata": {},
   "source": [
    "#### For the Uhrig-Y sequence"
   ]
  },
  {
   "cell_type": "code",
   "execution_count": 58,
   "id": "8b60b4e1",
   "metadata": {},
   "outputs": [
    {
     "name": "stdout",
     "output_type": "stream",
     "text": [
      "The expectation value of the Schlogl operator wrt the zeromode is:\n",
      "[[0.0003187]]\n",
      "\n"
     ]
    }
   ],
   "source": [
    "# Get the zeromode\n",
    "zeromode_qpe = [[0.02238603], [0.02235562], [0.02243967], [0.02215016], [0.695321  ], [0.6184534 ], [0.2753337 ], [0.09909544]]\n",
    "\n",
    "# Compute the expectation value\n",
    "expectation_value = get_expectation(Q, zeromode_qpe)\n",
    "\n",
    "# Print the expectation value\n",
    "print('The expectation value of the Schlogl operator wrt the zeromode is:')\n",
    "print(expectation_value)\n",
    "print()"
   ]
  },
  {
   "cell_type": "markdown",
   "id": "0511d5f4",
   "metadata": {},
   "source": [
    "#### For the KDD sequence"
   ]
  },
  {
   "cell_type": "code",
   "execution_count": 59,
   "id": "76af9b6a",
   "metadata": {},
   "outputs": [
    {
     "name": "stdout",
     "output_type": "stream",
     "text": [
      "The expectation value of the Schlogl operator wrt the zeromode is:\n",
      "[[0.00031368]]\n",
      "\n"
     ]
    }
   ],
   "source": [
    "# Get the zeromode\n",
    "zeromode_qpe = [[0.0263587 ], [0.02632848], [0.02641644], [0.02611987], [0.6955446 ], [0.6186533 ], [0.27541843], [0.09912796]]\n",
    "\n",
    "# Compute the expectation value\n",
    "expectation_value = get_expectation(Q, zeromode_qpe)\n",
    "\n",
    "# Print the expectation value\n",
    "print('The expectation value of the Schlogl operator wrt the zeromode is:')\n",
    "print(expectation_value)\n",
    "print()"
   ]
  }
 ],
 "metadata": {
  "kernelspec": {
   "display_name": "Python 3 (ipykernel)",
   "language": "python",
   "name": "python3"
  },
  "language_info": {
   "codemirror_mode": {
    "name": "ipython",
    "version": 3
   },
   "file_extension": ".py",
   "mimetype": "text/x-python",
   "name": "python",
   "nbconvert_exporter": "python",
   "pygments_lexer": "ipython3",
   "version": "3.10.9"
  }
 },
 "nbformat": 4,
 "nbformat_minor": 5
}
