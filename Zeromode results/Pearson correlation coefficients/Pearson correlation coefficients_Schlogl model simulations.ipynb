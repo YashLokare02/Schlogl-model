{
 "cells": [
  {
   "cell_type": "markdown",
   "id": "f0551db5",
   "metadata": {},
   "source": [
    "## Importing relevant libraries"
   ]
  },
  {
   "cell_type": "code",
   "execution_count": 8,
   "id": "7fa8cf2c",
   "metadata": {},
   "outputs": [],
   "source": [
    "import numpy as np\n",
    "from scipy.stats import pearsonr"
   ]
  },
  {
   "cell_type": "markdown",
   "id": "c2b65e5c",
   "metadata": {},
   "source": [
    "## Function to compute the Pearson correlation coefficient (classical and quantum zeromodes)"
   ]
  },
  {
   "cell_type": "code",
   "execution_count": 39,
   "id": "13294d11",
   "metadata": {},
   "outputs": [],
   "source": [
    "def get_coefficient(zeromode_classic, zeromode_quantum):\n",
    "    # Function to compute the Pearson correlation coefficient (and p-value) between the classical and quantum zeromodes\n",
    "    \n",
    "    # Extract the relevant portions of the zeromodes\n",
    "    # Note: only the last four data points are relevant (see the main text for more details)\n",
    "    zeromode_classic = zeromode_classic[4:]\n",
    "    zeromode_quantum = zeromode_quantum[4:]\n",
    "    \n",
    "    # Generate arrays\n",
    "    zeromode_classic = np.array(zeromode_classic).flatten()\n",
    "    zeromode_quantum = np.array(zeromode_quantum).flatten()\n",
    "    \n",
    "    # Compute\n",
    "    coefficient, p_value = pearsonr(zeromode_classic, zeromode_quantum)\n",
    "    \n",
    "    # Print the results\n",
    "    print('The Pearson correlation coefficient is:')\n",
    "    print(coefficient)\n",
    "    print()\n",
    "    \n",
    "    # Print the p-value\n",
    "    print('The p-value is:')\n",
    "    print(p_value)\n",
    "    print()\n",
    "    \n",
    "    return coefficient, p_value"
   ]
  },
  {
   "cell_type": "markdown",
   "id": "213cadad",
   "metadata": {},
   "source": [
    "## Zeromodes obtained via exact diagonalization"
   ]
  },
  {
   "cell_type": "code",
   "execution_count": 40,
   "id": "f39c9e4e",
   "metadata": {},
   "outputs": [],
   "source": [
    "zeromode_V_1 = [[0.07093688], [0.07093688], [0.07093688], [0.07093688], [0.9868027 ], [0.09199008], [0.00428767], [0.00207746]]\n",
    "\n",
    "zeromode_V_5 = [[-0.02978204], [-0.02978204], [-0.02978204], [-0.02978204], [ 0.90161196], [ 0.42024286], [ 0.09793796], [ 0.02692673]]\n",
    "\n",
    "zeromode_V_10 = [[-0.03055364], [-0.03055364], [-0.03055364], [-0.03055364], [ 0.75793751], [ 0.67443592], [ 0.30006683], [ 0.10797925]]"
   ]
  },
  {
   "cell_type": "markdown",
   "id": "a3d5ea23",
   "metadata": {},
   "source": [
    "## Computations\n",
    "\n",
    "### For V = 1.1"
   ]
  },
  {
   "cell_type": "code",
   "execution_count": 41,
   "id": "b7bcb1ab",
   "metadata": {},
   "outputs": [
    {
     "name": "stdout",
     "output_type": "stream",
     "text": [
      "The Pearson correlation coefficient is:\n",
      "0.9999998534467543\n",
      "\n",
      "The p-value is:\n",
      "1.465532456501606e-07\n",
      "\n"
     ]
    }
   ],
   "source": [
    "# Get the quantum zeromode\n",
    "zeromode_quantum = [[0.06540766], [0.06528421], [0.06541657], [0.06547776], [0.9196253 ], [0.08547726], [0.00432241], [0.00212548]]\n",
    "\n",
    "# Compute \n",
    "coefficient, p_value = get_coefficient(zeromode_V_1, zeromode_quantum)"
   ]
  },
  {
   "cell_type": "markdown",
   "id": "022bf7a6",
   "metadata": {},
   "source": [
    "### For V = 5.5"
   ]
  },
  {
   "cell_type": "code",
   "execution_count": 42,
   "id": "9a86b13b",
   "metadata": {},
   "outputs": [
    {
     "name": "stdout",
     "output_type": "stream",
     "text": [
      "The Pearson correlation coefficient is:\n",
      "0.9999999769799102\n",
      "\n",
      "The p-value is:\n",
      "2.302008983434689e-08\n",
      "\n"
     ]
    }
   ],
   "source": [
    "# Get the quantum zeromode\n",
    "zeromode_quantum = [[-0.15064175], [-0.15050615], [-0.15061936], [-0.15065551], [ 0.8089274 ], [ 0.37695244], [ 0.0879932 ], [ 0.02422124]]\n",
    "\n",
    "# Compute \n",
    "coefficient, p_value = get_coefficient(zeromode_V_5, zeromode_quantum)"
   ]
  },
  {
   "cell_type": "markdown",
   "id": "90303b54",
   "metadata": {},
   "source": [
    "### For V = 10.5"
   ]
  },
  {
   "cell_type": "code",
   "execution_count": 43,
   "id": "508d06f7",
   "metadata": {},
   "outputs": [
    {
     "name": "stdout",
     "output_type": "stream",
     "text": [
      "The Pearson correlation coefficient is:\n",
      "0.9999999043279326\n",
      "\n",
      "The p-value is:\n",
      "9.567206737948197e-08\n",
      "\n"
     ]
    }
   ],
   "source": [
    "# Get the quantum zeromode\n",
    "zeromode_quantum = [[0.01715529], [0.01712676], [0.01720677], [0.01692239], [0.69455296], [0.6177703], [0.27503303], [0.09898671]]\n",
    "\n",
    "# Compute \n",
    "coefficient, p_value = get_coefficient(zeromode_V_10, zeromode_quantum)"
   ]
  }
 ],
 "metadata": {
  "kernelspec": {
   "display_name": "Python 3 (ipykernel)",
   "language": "python",
   "name": "python3"
  },
  "language_info": {
   "codemirror_mode": {
    "name": "ipython",
    "version": 3
   },
   "file_extension": ".py",
   "mimetype": "text/x-python",
   "name": "python",
   "nbconvert_exporter": "python",
   "pygments_lexer": "ipython3",
   "version": "3.10.9"
  }
 },
 "nbformat": 4,
 "nbformat_minor": 5
}
